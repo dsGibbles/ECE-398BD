{
 "cells": [
  {
   "cell_type": "markdown",
   "metadata": {},
   "source": [
    "# Lab 3: Classification (Part 2) and Model Selection"
   ]
  },
  {
   "cell_type": "markdown",
   "metadata": {},
   "source": [
    "## Name: Daniel Gonzales (dsgonza2)\n",
    "\n",
    "### Due September 20, 2017 12:00 AM [ This is when Wednesday transitions to Thursday. ]\n",
    "\n",
    "**Logistics and Lab Sumission**\n",
    "\n",
    "See the [course website](https://courses.engr.illinois.edu/ece398bd/logisticsvvv.html). Remember that all labs count equally, despite the labs being graded from a different number of total points)."
   ]
  },
  {
   "cell_type": "markdown",
   "metadata": {},
   "source": [
    "**What You Will Need To Know For This Lab**\n",
    "\n",
    "This lab covers a few more basic classifiers which can be used for M-ary classification:\n",
    "- Naive Bayes\n",
    "- Logistic Regression\n",
    "- Support Vector Machines\n",
    "\n",
    "as well as cross-validation, a tool for model selection and assessment.\n",
    " \n",
    "There are some problems which have short answer questions. Do not write an essay -- a few sentences will suffice.\n",
    "\n",
    "Be clear about your answers. For example, if a question asks you \"Which classifier would you choose?\", be unequivocal about which classifier you would choose (and why); as engineers, part of your job is to make design decisions and justify them in the context of the alternatives and in the application. \n",
    "\n",
    "Remember in many applications, the end goal is not always \"run a classifier\", like in a homework problem, but is to use the output of the classifier in the context of the problem at hand (e.g. detecting spam, identifying cancer, etc.). Because of this, some of our Engineering Design-type questions are designed to get you to think about the entire design problem at a high level.\n",
    "\n",
    "\n",
    "**Warning: Do not train on your test sets. You will automatically have your score halved for a problem if you train on your test data.**"
   ]
  },
  {
   "cell_type": "markdown",
   "metadata": {},
   "source": [
    "**Preamble (don't change this)**"
   ]
  },
  {
   "cell_type": "code",
   "execution_count": 5,
   "metadata": {},
   "outputs": [
    {
     "name": "stdout",
     "output_type": "stream",
     "text": [
      "Populating the interactive namespace from numpy and matplotlib\n"
     ]
    },
    {
     "name": "stderr",
     "output_type": "stream",
     "text": [
      "C:\\Users\\Daniel\\Anaconda3\\lib\\site-packages\\sklearn\\cross_validation.py:44: DeprecationWarning: This module was deprecated in version 0.18 in favor of the model_selection module into which all the refactored classes and functions are moved. Also note that the interface of the new CV iterators are different from that of this module. This module will be removed in 0.20.\n",
      "  \"This module will be removed in 0.20.\", DeprecationWarning)\n"
     ]
    }
   ],
   "source": [
    "from __future__ import division\n",
    "%pylab inline\n",
    "import numpy as np\n",
    "from sklearn import neighbors\n",
    "from sklearn import svm\n",
    "from sklearn import cross_validation\n",
    "from numpy import genfromtxt\n",
    "from sklearn.preprocessing import MinMaxScaler\n",
    "import glob"
   ]
  },
  {
   "cell_type": "markdown",
   "metadata": {},
   "source": [
    "### Problem 1: Spam Detection (70 points)\n",
    "\n",
    "In this problem, you will be constructing a crude spam detector. As you all know, when you receive an e-mail, it can be divided into one of two types: ham (useful mail, label $-1$) and spam (junk mail, label $+1$). In the [olden days](http://www.paulgraham.com/spam.html), people tried writing a bunch of rules to detect spam. However, it was quickly seen that machine learning approaches work fairly well for a little bit of work. \n",
    "\n",
    "You will be designing a spam detector by applying some of the classification techniques you learned in class to a batch of emails used to train and test [SpamAssassin](http://spamassassin.apache.org/), a leading anti-spam software package. \n",
    "\n",
    "Let the *vocabulary* of a dataset be a list of all terms occuring in a data set. So, for example, a vocabulary could be [\"cat\",\"dog\",\"chupacabra\", \"aerospace\", ...]. \n",
    "\n",
    "Our features will be based only the frequencies of terms in our vocabulary occuring in the e-mails (such an approach is called a *bag of words* approach, since we ignore the positions of the terms in the emails). The $j$-th feature is the number of times term $j$ in the vocabulary occurs in the email. If you are interested in further details on this model, you can see Chapters 6 and 13 in [Manning's Book](http://nlp.stanford.edu/IR-book/).\n",
    "\n",
    "You will use the following classifiers in this problem:\n",
    "- sklearn.naive_bayes.BernoulliNB (Naive Bayes Classifier with Bernoulli Model)\n",
    "- sklearn.naive_bayes.MultinomialNB (Naive Bayes Classifier with Multinomial Model)\n",
    "- sklearn.svm.LinearSVC (Linear Support Vector Machine)\n",
    "- sklearn.linear_model.LogisticRegression (Logistic Regression)\n",
    "- sklearn.neighbors.KNeighborsClassifier (1-Nearest Neighbor Classifier)\n",
    "\n",
    "In the context of the Bernoulli Model for Naive Bayes, scikit-learn will binarize the features by interpretting the $j$-th feature to be $1$ if the $j$-th term in the vocabulary occurs in the email and $0$ otherwise. This is a categorical Naive Bayes model, with binary features. While we did not discuss the multinomial model in class, it operates directly on the frequencies of terms in the vocabulary, and is discussed in Section 13.2 in [Manning's Book](http://nlp.stanford.edu/IR-book/) (though you do not need to read this reference). Both the Bernoulli and Multinomial models are commonly used for Naive Bayes in text classification. "
   ]
  },
  {
   "cell_type": "markdown",
   "metadata": {},
   "source": [
    "A sample Ham email is:\n",
    "\n",
    "    From nic@starflung.com  Mon Jun 24 17:06:54 2002\n",
    "    Return-Path: 7910726.0.27May2002215326@mp.opensrs.net\n",
    "    Delivery-Date: Tue May 28 02:53:28 2002\n",
    "    Received: from mp.opensrs.net (mp.opensrs.net [216.40.33.45]) by\n",
    "        dogma.slashnull.org (8.11.6/8.11.6) with ESMTP id g4S1rSe14718 for\n",
    "        <zzz@spamassassin.taint.org>; Tue, 28 May 2002 02:53:28 +0100\n",
    "    Received: (from popensrs@localhost) by mp.opensrs.net (8.9.3/8.9.3) id\n",
    "        VAA04361; Mon, 27 May 2002 21:53:26 -0400\n",
    "    Message-Id: <7910726.0.27May2002215326@mp.opensrs.net>\n",
    "    Date: Mon, 27 May 2002 21:53:26 -0500 (EST)\n",
    "    From: \"Starflung NIC\" <nic@starflung.com>\n",
    "    To: <zzz@spamassassin.taint.org>\n",
    "    Subject: Automated 30 day renewal reminder 2002-05-27\n",
    "    X-Keywords: \n",
    "\n",
    "    The following domains that are registered as belonging\n",
    "    to you are due to expire within the next 60 days. If\n",
    "    you would like to renew them, please contact\n",
    "    nic@starflung.com; otherwise they will be deactivated\n",
    "    and may be registered by another.\n",
    "\n",
    "\n",
    "    Domain Name, Expiry Date\n",
    "    nutmegclothing.com, 2002-06-26\n",
    "    \n",
    "    \n",
    "A sample Spam email is: \n",
    "\n",
    "    From jjj@mymail.dk  Fri Aug 23 11:03:31 2002\n",
    "    Return-Path: <jjj@mymail.dk>\n",
    "    Delivered-To: zzzz@localhost.example.com\n",
    "    Received: from localhost (localhost [127.0.0.1])\n",
    "        by phobos.labs.example.com (Postfix) with ESMTP id 478B54415C\n",
    "        for <zzzz@localhost>; Fri, 23 Aug 2002 06:02:57 -0400 (EDT)\n",
    "    Received: from mail.webnote.net [193.120.211.219]\n",
    "        by localhost with POP3 (fetchmail-5.9.0)\n",
    "        for zzzz@localhost (single-drop); Fri, 23 Aug 2002 11:02:57 +0100 (IST)\n",
    "    Received: from smtp.easydns.com (smtp.easydns.com [205.210.42.30])\n",
    "        by webnote.net (8.9.3/8.9.3) with ESMTP id IAA08912;\n",
    "        Fri, 23 Aug 2002 08:13:36 +0100\n",
    "    From: jjj@mymail.dk\n",
    "    Received: from mymail.dk (unknown [61.97.34.233])\n",
    "        by smtp.easydns.com (Postfix) with SMTP\n",
    "        id 7484A2F85C; Fri, 23 Aug 2002 03:13:31 -0400 (EDT)\n",
    "    Reply-To: <jjj@mymail.dk>\n",
    "    Message-ID: <008c61d64eed$6184e5d5$4bc22de3@udnugg>\n",
    "    To: bbr_hooten@yahoo.com\n",
    "    Subject: HELP WANTED.  WORK FROM HOME REPS.\n",
    "    MiME-Version: 1.0\n",
    "    Content-Type: text/plain;\n",
    "        charset=\"iso-8859-1\"\n",
    "    X-Priority: 3 (Normal)\n",
    "    X-MSMail-Priority: Normal\n",
    "    X-Mailer: Microsoft Outlook, Build 10.0.2616\n",
    "    Importance: Normal\n",
    "    Date: Fri, 23 Aug 2002 03:13:31 -0400 (EDT)\n",
    "    Content-Transfer-Encoding: 8bit\n",
    "\n",
    "    Help wanted.  We are a 14 year old fortune 500 company, that is\n",
    "    growing at a tremendous rate.  We are looking for individuals who\n",
    "    want to work from home.\n",
    "\n",
    "    This is an opportunity to make an excellent income.  No experience\n",
    "    is required.  We will train you.\n",
    "\n",
    "    So if you are looking to be employed from home with a career that has\n",
    "    vast opportunities, then go:\n",
    "\n",
    "    http://www.basetel.com/wealthnow\n",
    "\n",
    "    We are looking for energetic and self motivated people.  If that is you\n",
    "    than click on the link and fill out the form, and one of our\n",
    "    employement specialist will contact you.\n",
    "\n",
    "    To be removed from our link simple go to:\n",
    "\n",
    "    http://www.basetel.com/remove.html\n",
    "\n",
    "\n",
    "    1349lmrd5-948HyhJ3622xXiM0-290VZdq6044fFvN0-799hUsU07l50\n",
    "\n"
   ]
  },
  {
   "cell_type": "markdown",
   "metadata": {},
   "source": [
    "First, we will load the [data](http://spamassassin.apache.org/publiccorpus/readme.html). Our dataset has a bit over 9000 emails, with about 25% of them being spam. We will use 50% of them as a training set, 25% of them as a validation set and 25% of them as a test set. "
   ]
  },
  {
   "cell_type": "code",
   "execution_count": 6,
   "metadata": {},
   "outputs": [],
   "source": [
    "# Get list of emails\n",
    "spamfiles=glob.glob('./Data/Spam/*')\n",
    "hamfiles=glob.glob('./Data/Ham/*')"
   ]
  },
  {
   "cell_type": "code",
   "execution_count": 7,
   "metadata": {
    "collapsed": true
   },
   "outputs": [],
   "source": [
    "# First, we will split the files into the training, validation and test sets.\n",
    "\n",
    "np.random.seed(seed=222017) # seed the RNG for repeatability\n",
    "\n",
    "fnames=np.asarray(spamfiles+hamfiles)\n",
    "nfiles=fnames.size\n",
    "labels=np.ones(nfiles)\n",
    "labels[len(spamfiles):]=-1\n",
    "\n",
    "# Randomly permute the files we have\n",
    "idx=np.random.permutation(nfiles)\n",
    "fnames=fnames[idx]\n",
    "labels=labels[idx]\n",
    "\n",
    "#Split the file names into which set they belong to\n",
    "tname=fnames[:int(nfiles/2)]\n",
    "trainlabels=labels[:int(nfiles/2)]\n",
    "vname=fnames[int(nfiles/2):int(nfiles*3/4)]\n",
    "vallabels=labels[int(nfiles/2):int(nfiles*3/4)]\n",
    "tename=fnames[int(3/4*nfiles):]\n",
    "testlabels=labels[int(3/4*nfiles):]"
   ]
  },
  {
   "cell_type": "code",
   "execution_count": 8,
   "metadata": {
    "collapsed": true
   },
   "outputs": [],
   "source": [
    "from sklearn.feature_extraction.text import CountVectorizer\n",
    "\n",
    "# Get our Bag of Words Features from the data\n",
    "bow = CountVectorizer(input='filename',encoding='iso-8859-1',binary=False)\n",
    "traindata=bow.fit_transform(tname)\n",
    "valdata=bow.transform(vname)\n",
    "testdata=bow.transform(tename)"
   ]
  },
  {
   "cell_type": "markdown",
   "metadata": {},
   "source": [
    "The $100$ most and least common terms in the vocabulary are:"
   ]
  },
  {
   "cell_type": "code",
   "execution_count": 9,
   "metadata": {},
   "outputs": [
    {
     "ename": "SyntaxError",
     "evalue": "invalid syntax (<ipython-input-9-c48142f616b2>, line 3)",
     "output_type": "error",
     "traceback": [
      "\u001b[1;36m  File \u001b[1;32m\"<ipython-input-9-c48142f616b2>\"\u001b[1;36m, line \u001b[1;32m3\u001b[0m\n\u001b[1;33m    print \"100 most common terms: \" , ','.join(str(s) for s in vocab[counts[-100:]]), \"\\n\"\u001b[0m\n\u001b[1;37m                                  ^\u001b[0m\n\u001b[1;31mSyntaxError\u001b[0m\u001b[1;31m:\u001b[0m invalid syntax\n"
     ]
    }
   ],
   "source": [
    "counts=np.reshape(np.asarray(np.argsort(traindata.sum(axis=0))),-1)\n",
    "vocab=np.reshape(np.asarray(bow.get_feature_names()),-1)\n",
    "print \"100 most common terms: \" , ','.join(str(s) for s in vocab[counts[-100:]]), \"\\n\"\n",
    "print \"100 least common terms: \" , ','.join(str(s) for s in vocab[counts[:100]])"
   ]
  },
  {
   "cell_type": "markdown",
   "metadata": {},
   "source": [
    "We will have our training data in `traindata` (with labels in `trainlabels`), validation data in `valdata` (with labels in `vallabels`) and test data in `testdata` (with labels in `testlabels`). The data is stored as a sparse scipy matrix (scipy.sparse.csr.csr_matrix), since we have a decent number of features (~100k), most of which are zero (~0.2% are non-zero), this allows storing the data in a few megabytes. Directly storing it as a numpy array (as we did in lab 1) would take around 8 gigabytes. Working with sparse data can make many algorithms run faster and use less storage. "
   ]
  },
  {
   "cell_type": "markdown",
   "metadata": {},
   "source": [
    "Train each of the following classifiers **( 3 Points Each )**:\n",
    "- sklearn.naive_bayes.BernoulliNB (Naive Bayes Classifier with Bernoulli Model)\n",
    "- sklearn.naive_bayes.MultinomialNB (Naive Bayes Classifier with Multinomial Model)\n",
    "- sklearn.svm.LinearSVC (Linear Support Vector Machine)\n",
    "- sklearn.linear_model.LogisticRegression (Logistic Regression)\n",
    "- sklearn.neighbors.KNeighborsClassifier (as a 1-Nearest Neighbor Classifier)\n",
    "on the training data in `traindata` with corresponding labels `trainlabels`. Use the default parameters, unless otherwise noted.\n",
    "\n",
    "For each classifier, report:\n",
    "- Time it took to fit the classifier (i.e. call the .fit method) **(1 Point Each)**\n",
    "- Training Error **( 1 Point Each)**\n",
    "\n",
    "This part of the problem has a total of **15 points**."
   ]
  },
  {
   "cell_type": "code",
   "execution_count": 30,
   "metadata": {
    "collapsed": true
   },
   "outputs": [],
   "source": [
    "from sklearn.naive_bayes import BernoulliNB \n",
    "from sklearn.naive_bayes import MultinomialNB \n",
    "from sklearn.svm import LinearSVC \n",
    "from sklearn.linear_model import LogisticRegression \n",
    "from sklearn.neighbors import KNeighborsClassifier \n",
    "from sklearn.svm import SVC\n",
    "import time"
   ]
  },
  {
   "cell_type": "code",
   "execution_count": 23,
   "metadata": {},
   "outputs": [
    {
     "name": "stdout",
     "output_type": "stream",
     "text": [
      "Bernoulli Naive Bayes Training Error: 0.0335900727428\n",
      "Multinomial Naive Bayes Training Error: 0.0192554557125\n",
      "Linear SVM Training Error: 0.0\n",
      "Logistic Regression Training Error: 0.0\n",
      "1-Nearest Neighbor Training Error: 0.0\n"
     ]
    }
   ],
   "source": [
    "# Put your code here\n",
    "#Bernoulli Naive Bayes\n",
    "NB = BernoulliNB()\n",
    "NB.fit(traindata, trainlabels)\n",
    "print(\"Bernoulli Naive Bayes Training Error:\", 1 - NB.score(traindata,trainlabels))\n",
    "\n",
    "#Multinomial Naive Bayes\n",
    "B = MultinomialNB()\n",
    "MB.fit(traindata, trainlabels)\n",
    "print(\"Multinomial Naive Bayes Training Error:\", 1 - MB.score(traindata,trainlabels))\n",
    "\n",
    "#Linear Support Vector Machine\n",
    "SVM = LinearSVC()\n",
    "SVM.fit(traindata, trainlabels)\n",
    "print(\"Linear SVM Training Error:\", 1 - SVM.score(traindata,trainlabels))\n",
    "\n",
    "#Logistic Regression\n",
    "LR = LogisticRegression()\n",
    "LR.fit(traindata, trainlabels)\n",
    "print(\"Logistic Regression Training Error:\", 1 - LR.score(traindata,trainlabels))\n",
    "\n",
    "#1-Nearest Neighbor \n",
    "NN = KNeighborsClassifier(n_neighbors=1)\n",
    "NN.fit(traindata, trainlabels)\n",
    "print(\"1-Nearest Neighbor Training Error:\", 1 - NN.score(traindata,trainlabels))\n"
   ]
  },
  {
   "cell_type": "markdown",
   "metadata": {},
   "source": [
    "Give a justification as to why the Linear SVM and Logistic regression have their particular value of training error. **(5 points)**"
   ]
  },
  {
   "cell_type": "markdown",
   "metadata": {},
   "source": [
    "**ANSWER:** The Linear SVM and logistic regression classifers have 0 training error because the models have been fitted exactly to the training data. It's possible this may be subjected to overfitting and can cause issues in the validation/testing data. A way to fix this is to use regularization. "
   ]
  },
  {
   "cell_type": "markdown",
   "metadata": {},
   "source": [
    "Run each of the classifiers on the validation data **(2 Points Each)**:\n",
    "- sklearn.naive_bayes.BernoulliNB (Naive Bayes Classifier with Bernoulli Model)\n",
    "- sklearn.naive_bayes.BernoulliNB (Naive Bayes Classifier with Multiomial Model)\n",
    "- sklearn.svm.LinearSVC (Linear Support Vector Machine)\n",
    "- sklearn.linear_model.LogisticRegression (Logistic Regression)\n",
    "- sklearn.neighbors.KNeighborsClassifier (as a 1-Nearest Neighbor Classifier)\n",
    "on the training data in `traindata` with corresponding labels `trainlabels`. Use the default parameters, unless otherwise noted.\n",
    "\n",
    "For each classifier:\n",
    "- Store the labels it predicted as \\_\\_vallabels, where \\_\\_ is NB,MB,SVM,LR,NN respectively. **( 1 Point Each)**\n",
    "- Time it took to run the classifier on the data **(1 Point Each)**\n",
    "- Validation Error **(1 Point Each)**\n",
    "\n",
    "This part of the problem has a total of **15 points**."
   ]
  },
  {
   "cell_type": "code",
   "execution_count": 40,
   "metadata": {},
   "outputs": [
    {
     "name": "stdout",
     "output_type": "stream",
     "text": [
      "Bernoulli Naive Bayes Validation Error: 0.0547710740265\n",
      "Run Time:  0.01642 sec\n",
      "\n",
      "Multinomial Naive Bayes Validation Error: 0.0269576379974\n",
      "Run Time:  0.005 sec\n",
      "\n",
      "Linear SVM Validation Error: 0.0106974753958\n",
      "Run Time:  0.00253 sec\n",
      "\n",
      "Logistic Regression Validation Error: 0.00813008130081\n",
      "Run Time:  0.00234 sec\n",
      "\n",
      "1-Nearest Neighbor Validation Error: 0.0162601626016\n",
      "Run Time:  1.36806 sec\n",
      "\n"
     ]
    }
   ],
   "source": [
    "# Put your code here\n",
    "#Bernoulli Naive Bayesimport time\n",
    "start = time.clock()\n",
    "NBvallabels = NB.predict(valdata)\n",
    "timetorun = time.clock() - start\n",
    "print(\"Bernoulli Naive Bayes Validation Error:\", 1 - NB.score(valdata, vallabels))\n",
    "print(\"Run Time: \", round(timetorun,5), \"sec\\n\")\n",
    "\n",
    "#Multinomial Naive Bayes\n",
    "start = time.clock()\n",
    "MBvallabels = MB.predict(valdata)\n",
    "timetorun = time.clock() - start\n",
    "print(\"Multinomial Naive Bayes Validation Error:\", 1 - MB.score(valdata, vallabels))\n",
    "print(\"Run Time: \", round(timetorun,5), \"sec\\n\")\n",
    "\n",
    "#Linear Support Vector Machine\n",
    "start = time.clock()\n",
    "SVMvallabels = SVM.predict(valdata)\n",
    "timetorun = time.clock() - start\n",
    "print(\"Linear SVM Validation Error:\", 1 - SVM.score(valdata, vallabels))\n",
    "print(\"Run Time: \", round(timetorun,5), \"sec\\n\")\n",
    "\n",
    "#Logistic Regression\n",
    "start = time.clock()\n",
    "LRvallabels = LR.predict(valdata)\n",
    "timetorun = time.clock() - start\n",
    "print(\"Logistic Regression Validation Error:\", 1 - LR.score(valdata, vallabels))\n",
    "print(\"Run Time: \", round(timetorun,5), \"sec\\n\")\n",
    "\n",
    "#1-Nearest Neighbor \n",
    "start = time.clock()\n",
    "NNvallabels = NN.predict(valdata)\n",
    "timetorun = time.clock() - start\n",
    "print(\"1-Nearest Neighbor Validation Error:\", 1 - NN.score(valdata, vallabels))\n",
    "print(\"Run Time: \", round(timetorun,5), \"sec\\n\")\n"
   ]
  },
  {
   "cell_type": "markdown",
   "metadata": {},
   "source": [
    "Let us take a more nuanced look at the type of errors made on a data set. The following function calculates a confusion matrix (Fig. 2.1 in the notes) and some statistics. You may wish to read Section 2.1.1 in the notes -- it may be helpful, but is not necessary to complete this problem."
   ]
  },
  {
   "cell_type": "code",
   "execution_count": 43,
   "metadata": {},
   "outputs": [],
   "source": [
    "def ConfMatr(truelabels,estimatedlabels,classifiername):\n",
    "    # classifiername is a string, such as 'Naive Bayes (Bernoulli)'\n",
    "    cm=np.zeros((2,2))\n",
    "    cm[0,0]=np.sum(np.logical_and(truelabels==1,estimatedlabels==1)) # True Positives\n",
    "    cm[0,1]=np.sum(np.logical_and(truelabels==-1,estimatedlabels==1)) # False Positive\n",
    "    cm[1,0]=np.sum(np.logical_and(truelabels==1,estimatedlabels==-1)) # False Negative\n",
    "    cm[1,1]=np.sum(np.logical_and(truelabels==-1,estimatedlabels==-1)) # True Negatives\n",
    "    print(\"Classifier Name: %s\"% classifiername)  \n",
    "    print(\"True Positives:\", cm[0,0], \"False Positive:\", cm[0,1])\n",
    "    print(\"False Negative:\", cm[1,0], \"True Negatives:\", cm[1,1])\n",
    "    print(\"True Positive Rate : \", cm[0,0]/np.sum(truelabels==1))\n",
    "    print(\"False Positive Rate: \", cm[0,1]/np.sum(truelabels==-1))\n",
    "    print(\"---\")"
   ]
  },
  {
   "cell_type": "markdown",
   "metadata": {},
   "source": [
    "Run ConfMatr using the validation labels and their estimates for all the classifiers we've used in this problem. **(5 points)**"
   ]
  },
  {
   "cell_type": "code",
   "execution_count": 45,
   "metadata": {},
   "outputs": [
    {
     "name": "stdout",
     "output_type": "stream",
     "text": [
      "Classifier Name: Bernoulli Naive Bayes\n",
      "True Positives: 490.0 False Positive: 16.0\n",
      "False Negative: 112.0 True Negatives: 1719.0\n",
      "True Positive Rate :  0.813953488372\n",
      "False Positive Rate:  0.00922190201729\n",
      "---\n",
      "Classifier Name: Multinomial Naive Bayes\n",
      "True Positives: 549.0 False Positive: 10.0\n",
      "False Negative: 53.0 True Negatives: 1725.0\n",
      "True Positive Rate :  0.91196013289\n",
      "False Positive Rate:  0.00576368876081\n",
      "---\n",
      "Classifier Name: Linear SVM\n",
      "True Positives: 594.0 False Positive: 17.0\n",
      "False Negative: 8.0 True Negatives: 1718.0\n",
      "True Positive Rate :  0.986710963455\n",
      "False Positive Rate:  0.00979827089337\n",
      "---\n",
      "Classifier Name: Logistic Regression\n",
      "True Positives: 598.0 False Positive: 15.0\n",
      "False Negative: 4.0 True Negatives: 1720.0\n",
      "True Positive Rate :  0.993355481728\n",
      "False Positive Rate:  0.00864553314121\n",
      "---\n",
      "Classifier Name: Nearest Neighbor\n",
      "True Positives: 578.0 False Positive: 14.0\n",
      "False Negative: 24.0 True Negatives: 1721.0\n",
      "True Positive Rate :  0.960132890365\n",
      "False Positive Rate:  0.00806916426513\n",
      "---\n"
     ]
    }
   ],
   "source": [
    "# Put your code here\n",
    "ConfMatr(vallabels, NBvallabels, \"Bernoulli Naive Bayes\")\n",
    "ConfMatr(vallabels, MBvallabels, \"Multinomial Naive Bayes\")\n",
    "ConfMatr(vallabels, SVMvallabels, \"Linear SVM\")\n",
    "ConfMatr(vallabels, LRvallabels, \"Logistic Regression\")\n",
    "ConfMatr(vallabels, NNvallabels, \"Nearest Neighbor\")\n"
   ]
  },
  {
   "cell_type": "markdown",
   "metadata": {},
   "source": [
    "What does the True Positive Rate mean for this problem? What does the False Positive Rate mean for this problem? Do we want these quantites to be high, low or don't care? Explain using words (no equations!). **(10 point)**"
   ]
  },
  {
   "cell_type": "markdown",
   "metadata": {},
   "source": [
    "**ANSWER:** The True Positive Rate is the amount of true positives over the total amount of samples that are truly labeled as positive (+1)  \n",
    "(TP/(TP+FN))\n",
    "\n",
    "The False Positive rate is is the amount of false positives over the total amount of samples that are truly labeled as negative (-1)   \n",
    "(FP/(FP+TN))"
   ]
  },
  {
   "cell_type": "markdown",
   "metadata": {},
   "source": [
    "Based on the results of this problem and knowledge of the application at hand (spam filtering), pick one of the classifiers in this problem and describe how you would use it as part of a spam filter for the University of Illinois email system. \n",
    "\n",
    "Be sure to justify your choice. **(10 points)**\n",
    "\n",
    "For this problem, just sketch out a system design at a very high level -- how you would train the spam filter to deal with new threats, would you filter everyone's email jointly, etc. We're just looking for around a paragraph on how you would come up with a (very rough) engineering design using the results of this problem. You may get some inspiration from the [girls and boys](https://gmail.googleblog.com/2007/10/how-our-spam-filter-works.html) at [Gmail](https://gmail.googleblog.com/2015/07/the-mail-you-want-not-spam-you-dont.html), the [chimps at MailChimp](http://kb.mailchimp.com/delivery/spam-filters/about-spam-filters) or other places. Your answer should also include techniques you could use to improve the performance of the classifier over the baseline provided in this problem (e.g. new features, or whatever)."
   ]
  },
  {
   "cell_type": "markdown",
   "metadata": {},
   "source": [
    "**ANSWER:** Given the context of the classifier's application, I would pick the Multinomial Naive Bayes classifier. Although the Logistic Regression classifer looks attractive with its low run time and low classification error, Its false positive rate is not the lowest where as the Multinomial Naive Bayes is. This rate is a very important statistic in spam filtering because the higher the false positive rate, the higher the chance that a potentially important email may be marked as spam. So although you're getting slightly more spam in your email account, there's a lower chance that your imporant mail is left unseen. This is why I've chosen the MNB classifier.  \n",
    "  \n",
    "To improve this classifier I would look to new features. Since the only features used are word frequency, we can expand to looking at different features such as the sender and header information. We can also include a feature that not only sees the frequency of words but the frequency of spam-like words such as Buy, savings, Viagra, and penis. "
   ]
  },
  {
   "cell_type": "markdown",
   "metadata": {},
   "source": [
    "Run the classifier you selected in the previous part of the problem on the test data, and display test error and output of ConfMatr. Comment on the true/false positive rate and error as compared to that on the validation set. **(10 points)**"
   ]
  },
  {
   "cell_type": "code",
   "execution_count": 52,
   "metadata": {},
   "outputs": [
    {
     "name": "stdout",
     "output_type": "stream",
     "text": [
      "Classifier Name: Multinomial Naive Bayes\n",
      "True Positives: 573.0 False Positive: 11.0\n",
      "False Negative: 47.0 True Negatives: 1707.0\n",
      "True Positive Rate :  0.924193548387\n",
      "False Positive Rate:  0.00640279394645\n",
      "---\n",
      "Multinomial Naive Bayes Test Error:  0.0248075278015\n"
     ]
    }
   ],
   "source": [
    "# Put your code here\n",
    "MBtestlabels = MB.predict(testdata)\n",
    "ConfMatr(testlabels, MBtestlabels, \"Multinomial Naive Bayes\")\n",
    "print(\"Multinomial Naive Bayes Test Error: \", 1-MB.score(testdata, testlabels))"
   ]
  },
  {
   "cell_type": "markdown",
   "metadata": {},
   "source": [
    "**ANSWER:** The test error is slightly lower than the validation lower of the MNB which is more accurate. The false positive rate is slightly higher but it is still overall the best after comparing the FPR of the other classifiers with the test data. The True positive rate is higher as a result. "
   ]
  },
  {
   "cell_type": "markdown",
   "metadata": {
    "collapsed": true
   },
   "source": [
    "### Problem 2: Cross-Validation (50 Points)"
   ]
  },
  {
   "cell_type": "markdown",
   "metadata": {},
   "source": [
    "Write a function which implements $5$-fold cross-validation to estimate the error of a classifier with cross-validation with the 0,1-loss for k-Nearest Neighbors (kNN). \n",
    "\n",
    "You will be given as input:\n",
    "* A (N,d) numpy.ndarray of training data, trainData (with N divisible by 5)\n",
    "* A length $N$ numpy.ndarray of training labels, trainLabels\n",
    "* A number $k$, for which cross-validated error estimates will be outputted for $1,\\ldots,k$\n",
    "\n",
    "Your output will be a vector (represented as a numpy.ndarray) err, such that err[i] is the cross-validated estimate of using i neighbors (err will be of length $k+1$; the zero-th component of the vector will be meaningless). \n",
    "\n",
    "So that this problem is easier to grade, take your folds to be 0:N/5, N/5:2N/5, ..., 4N/5:N for cross-validation (In general, the folds should be randomly divided).\n",
    "\n",
    "Use scikit-learn's sklearn.neighbors.KNeighborsClassifier to perform the training and classification for the kNN models involved. Do not use any other features of scikit-learn, such as things from sklearn.cross_validation. <b>(20 points)</b>"
   ]
  },
  {
   "cell_type": "code",
   "execution_count": 155,
   "metadata": {},
   "outputs": [],
   "source": [
    "def crossValidationkNN(trainData,trainLabels,k):\n",
    "    #Put your code here\n",
    "    err = np.zeros((k+1,))\n",
    "    N = len(trainData)\n",
    "    for i in range(1,k+1):\n",
    "        for l in range(5):\n",
    "            kNN = KNeighborsClassifier(n_neighbors=i)\n",
    "            startidx = int(l*N/5)\n",
    "            endidx = int((l+1)*N/5)\n",
    "            foldslice = np.zeros((N,))                   #initialize the fold set to false\n",
    "            foldslice[startidx:endidx] = 1               #initialize the current fold indices to true\n",
    "            \n",
    "            folddata = trainData[foldslice == True]\n",
    "            foldlabels = trainLabels[foldslice == True]  #Fold to use as validation set\n",
    "            \n",
    "            tdata = trainData[foldslice == False]\n",
    "            tlabel = trainLabels[foldslice == False]     #training data for current iteration \n",
    "            \n",
    "            kNN.fit(tdata, tlabel)\n",
    "            errorl = 1- kNN.score(folddata,foldlabels) #validation error for current fold\n",
    "            err[i] += (1/5)*errorl\n",
    "    return err\n",
    "        "
   ]
  },
  {
   "cell_type": "markdown",
   "metadata": {},
   "source": [
    "Now, we will load some data (acquired from <a href=\"http://www.cs.ubc.ca/~murphyk/\">K.P. Murphy</a>'s <a href=\"https://github.com/probml/pmtk3\"> PMTK tookit</a>)."
   ]
  },
  {
   "cell_type": "code",
   "execution_count": 86,
   "metadata": {
    "collapsed": true
   },
   "outputs": [],
   "source": [
    "problem2_tmp= genfromtxt('Data/p2.csv', delimiter=',')\n",
    "\n",
    "# Randomly reorder the data\n",
    "np.random.seed(seed=2217) # seed the RNG for repeatability\n",
    "idx=np.random.permutation(problem2_tmp.shape[0])\n",
    "problem2_tmp=problem2_tmp[idx]\n",
    "\n",
    "#The training data which you will use is called \"traindata\"\n",
    "traindata=problem2_tmp[:200,:2]\n",
    "#The training labels are in \"labels\"\n",
    "trainlabels=problem2_tmp[:200,2]\n",
    "\n",
    "#The test data which you will use is called \"testdata\" with labels \"testlabels\"\n",
    "testdata=problem2_tmp[200:,:2]\n",
    "testlabels=problem2_tmp[200:,2]"
   ]
  },
  {
   "cell_type": "markdown",
   "metadata": {},
   "source": [
    "Plot the cross-validation error versus number of neighbors for $1,\\ldots,30$ neighbors. <b>(10 points)</b>"
   ]
  },
  {
   "cell_type": "code",
   "execution_count": 156,
   "metadata": {},
   "outputs": [
    {
     "data": {
      "text/plain": [
       "<matplotlib.text.Text at 0x1ac80441ef0>"
      ]
     },
     "execution_count": 156,
     "metadata": {},
     "output_type": "execute_result"
    },
    {
     "data": {
      "image/png": "[encoded data removed]",
      "text/plain": [
       "<matplotlib.figure.Figure at 0x1acd9c49cf8>"
      ]
     },
     "metadata": {},
     "output_type": "display_data"
    }
   ],
   "source": [
    "# Put your code here\n",
    "err = crossValidationkNN(traindata, trainlabels, 30)\n",
    "k = np.arange(1,31)\n",
    "plt.plot(k,err[1:31])\n",
    "plt.xlabel('Number of Neighbors')\n",
    "plt.ylabel('Cross Validation Error')\n"
   ]
  },
  {
   "cell_type": "markdown",
   "metadata": {},
   "source": [
    "Select the number of neighbors which minimizes the cross-validation error. What is the cross-validation error for this number of neighbors? <b>(10 points)</b>"
   ]
  },
  {
   "cell_type": "code",
   "execution_count": 157,
   "metadata": {},
   "outputs": [
    {
     "name": "stdout",
     "output_type": "stream",
     "text": [
      "0.175\n"
     ]
    }
   ],
   "source": [
    "# Put your code\n",
    "NumNeighbors = 14\n",
    "N = len(traindata)\n",
    "err = 0\n",
    "for l in range(5):\n",
    "            kNN = KNeighborsClassifier(n_neighbors=NumNeighbors)\n",
    "            startidx = int(l*N/5)\n",
    "            endidx = int((l+1)*N/5)\n",
    "            foldset = np.zeros((N,))                   #initialize the fold set to false\n",
    "            foldset[startidx:endidx] = 1               #initialize the current fold indices to true\n",
    "            \n",
    "            folddata = traindata[foldset == True]\n",
    "            foldlabels = trainlabels[foldset == True]  #Fold to use as validation set\n",
    "            \n",
    "            tdata = traindata[foldset == False]\n",
    "            tlabel = trainlabels[foldset == False]     #training data for current iteration \n",
    "            \n",
    "            kNN.fit(tdata, tlabel)\n",
    "            errorl = 1- kNN.score(folddata,foldlabels) #validation error for current fold\n",
    "            err += (1/5)*errorl\n",
    "            \n",
    "print(err)"
   ]
  },
  {
   "cell_type": "markdown",
   "metadata": {},
   "source": [
    "**ANSWER:** Cross-Validation Error at 14 Neighbors: 0.175"
   ]
  },
  {
   "cell_type": "markdown",
   "metadata": {},
   "source": [
    "Train a kNN model on the whole training data using the number of neighbors you found in the previous part of the question, and apply it to the test data. Is it higher or lower than the cross-validation error you found in the last part of the problem? **(10 points)**"
   ]
  },
  {
   "cell_type": "code",
   "execution_count": 158,
   "metadata": {},
   "outputs": [
    {
     "name": "stdout",
     "output_type": "stream",
     "text": [
      "Test Error:  0.214\n"
     ]
    }
   ],
   "source": [
    "# Put your code here\n",
    "NumNeighbors = 14\n",
    "kNN = KNeighborsClassifier(n_neighbors=NumNeighbors)\n",
    "kNN.fit(traindata,trainlabels)\n",
    "print(\"Test Error: \", 1-kNN.score(testdata,testlabels))"
   ]
  },
  {
   "cell_type": "markdown",
   "metadata": {},
   "source": [
    "**ANSWER:** Test error is 0.214 compared to the 0.175 cross validation error. It is higher by more than I expected."
   ]
  },
  {
   "cell_type": "markdown",
   "metadata": {},
   "source": [
    "### Problem 3: Detecting Cancer with SVMs and Logistic Regression (45 points)"
   ]
  },
  {
   "cell_type": "markdown",
   "metadata": {},
   "source": [
    "We consider the [Breast Cancer Wisconsin Data Set](https://archive.ics.uci.edu/ml/datasets/Breast+Cancer+Wisconsin+%28Diagnostic%29) from \n",
    "W.N. Street, W.H. Wolberg and O.L. Mangasarian. Nuclear feature extraction for breast tumor diagnosis. IS&T/SPIE 1993 International Symposium on Electronic Imaging: Science and Technology, volume 1905, pages 861-870, San Jose, CA, 1993. \n",
    "\n",
    "The authors diagnosed people by characterizing 3 cell nuclei per person extracted from the breast (pictures [here](http://web.archive.org/web/19970225174429/http://www.cs.wisc.edu/~street/images/)), each with 10 features (for a 30-dimensional feature space):\n",
    "\n",
    "1. radius (mean of distances from center to points on the perimeter) \n",
    "\n",
    "2. texture (standard deviation of gray-scale values) \n",
    "\n",
    "3. perimeter \n",
    "\n",
    "4. area \n",
    "\n",
    "5. smoothness (local variation in radius lengths) \n",
    "\n",
    "6. compactness (perimeter^2 / area - 1.0) \n",
    "\n",
    "7. concavity (severity of concave portions of the contour) \n",
    "\n",
    "8. concave points (number of concave portions of the contour) \n",
    "\n",
    "9. symmetry \n",
    "\n",
    "10. fractal dimension (\"coastline approximation\" - 1)\n",
    "\n",
    "and classified the sample into one of two classes: Malignant ($+1$) or Benign ($-1$). You can read the original paper for more on what these features mean.\n",
    "\n",
    "You will be attempting to classify if a sample is Malignant or Benign using Support Vector Machines, as well as Logistic Regression. Since we don't have all that much data, we will use 10-fold cross-validation to tune our parameters for our SVMs and Logistic Regression. We use 90% of the data for training, and 10% for testing.\n",
    "\n",
    "You will be experimenting with SVMs using Gaussian RBF kernels through sklearn.svm.SVC, linear SVMs through sklearn.svm.LinearSVC, and sklearn.linear_model.LogisticRegression for Logistic Regression. \n",
    "\n",
    "Your model selection will be done with cross-validation via sklearn.cross_validation's cross_val_score. This returns the accuracy for each fold, i.e. the fraction of samples classified correctly. Thus, the cross-validation error is simply 1-mean(cross_val_score)."
   ]
  },
  {
   "cell_type": "markdown",
   "metadata": {},
   "source": [
    "First, we load the data. We will use scikit-learn's train test split function to split the data. The data is scaled for reasons outlined <a href=\"http://www.csie.ntu.edu.tw/~cjlin/papers/guide/guide.pdf\">here</a>. In short, it helps avoid some numerical issues and avoids some problems with certain features which are typically large affecting the SVM optimization problem unfairly compared to features which are typically small. "
   ]
  },
  {
   "cell_type": "code",
   "execution_count": 191,
   "metadata": {
    "collapsed": true
   },
   "outputs": [],
   "source": [
    "from sklearn.cross_validation import train_test_split\n",
    "\n",
    "cancer = genfromtxt('Data/wdbc.csv', delimiter=',')\n",
    "\n",
    "np.random.seed(seed=282017) # seed the RNG for repeatability\n",
    "idx=np.random.permutation(cancer.shape[0])\n",
    "cancer=cancer[idx]\n",
    "\n",
    "cancer_features=cancer[:,1:]\n",
    "cancer_labels=cancer[:,0]\n",
    "\n",
    "#The training data is in data_train with labels label_train. \n",
    "# The test data is in data_test with labels label_test.\n",
    "data_train, data_test, label_train, label_test = train_test_split(cancer_features,cancer_labels,test_size=0.1,random_state=292017)\n",
    "\n",
    "# Rescale the training data and scale the test data correspondingly\n",
    "scaler=MinMaxScaler(feature_range=(-1,1))\n",
    "data_train=scaler.fit_transform(data_train) #Note that the scaling is determined solely via the training data!\n",
    "data_test=scaler.transform(data_test)"
   ]
  },
  {
   "cell_type": "markdown",
   "metadata": {},
   "source": [
    "The soft margin linear SVM is tuned based on a parameter $C$, which controls how much points can be violating the margin (this isn't the same $C$ as in the notes, though it serves the same function; see the [scikit-learn documentation](http://scikit-learn.org/stable/modules/svm.html#svc) for details). \n",
    "\n",
    "Use cross-validation to select a value of $C$ for a linear SVM (sklearn.svm.LinearSVC) by varying $C$ from $2^{-5},2^{-4},\\ldots,2^{15}$. \n",
    "\n",
    "Which value of $C$ would you choose, and why? What is the corresponding cross-validation error? <b>(10 points)</b>"
   ]
  },
  {
   "cell_type": "code",
   "execution_count": 178,
   "metadata": {},
   "outputs": [
    {
     "name": "stdout",
     "output_type": "stream",
     "text": [
      "Cross-Validation Error:  0.359263951735  C: 2e -5\n",
      "Cross-Validation Error:  0.324194570136  C: 2e -4\n",
      "Cross-Validation Error:  0.101553544495  C: 2e -3\n",
      "Cross-Validation Error:  0.0427616892911  C: 2e -2\n",
      "Cross-Validation Error:  0.0291101055807  C: 2e -1\n",
      "Cross-Validation Error:  0.0311840120664  C: 2e 0\n",
      "Cross-Validation Error:  0.0272624434389  C: 2e 1\n",
      "Cross-Validation Error:  0.0351809954751  C: 2e 2\n",
      "Cross-Validation Error:  0.0390663650075  C: 2e 3\n",
      "Cross-Validation Error:  0.0467571644042  C: 2e 4\n",
      "Cross-Validation Error:  0.0410648567119  C: 2e 5\n",
      "Cross-Validation Error:  0.054677224736  C: 2e 6\n",
      "Cross-Validation Error:  0.0410271493213  C: 2e 7\n",
      "Cross-Validation Error:  0.033221719457  C: 2e 8\n",
      "Cross-Validation Error:  0.0331447963801  C: 2e 9\n",
      "Cross-Validation Error:  0.040987933635  C: 2e 10\n",
      "Cross-Validation Error:  0.0468702865762  C: 2e 11\n",
      "Cross-Validation Error:  0.0505294117647  C: 2e 12\n",
      "Cross-Validation Error:  0.0371040723982  C: 2e 13\n",
      "Cross-Validation Error:  0.042874811463  C: 2e 14\n",
      "Cross-Validation Error:  0.0467194570136  C: 2e 15\n"
     ]
    }
   ],
   "source": [
    "#Put your code here\n",
    "from sklearn.cross_validation import cross_val_score\n",
    "C_init = 2*(10**-5)\n",
    "\n",
    "for i in range(21):\n",
    "    C = C_init*(10**i)\n",
    "    SVM = LinearSVC(C=C)\n",
    "    cv_error = 1-mean(cross_val_score(SVM, X=data_train, y=label_train, cv=10))\n",
    "    print(\"Cross-Validation Error: \", cv_error, \" C: 2e\", -5+i)\n",
    "    "
   ]
  },
  {
   "cell_type": "markdown",
   "metadata": {},
   "source": [
    "**ANSWER:** I would choose C = 2e1 since it has the smallest cross-validation error at 0.027"
   ]
  },
  {
   "cell_type": "markdown",
   "metadata": {},
   "source": [
    "You will now experiment with using kernels in an SVM, particularly the Gaussian RBF kernel (in sklearn.svm.SVC). The SVM has two parameters to tune in this case: $C$ (as before), and $\\gamma$, which is a parameter in the RBF. \n",
    "\n",
    "Use cross-validation to select parameters $(C,\\gamma)$ by searching varying $(C,\\gamma)$ over $C=2^{-5},2^{-4},\\ldots,2^{15}$ and $\\gamma=2^{-15},\\ldots,2^{3}$ [So, you will try about 400 parameter choices]. Out of these, which $(C,\\gamma)$ parameters would you choose? What is the corresponding cross-validation error? \n",
    "\n",
    "This procedure is known as a *grid search*.We are using a fairly coarse grid for this problem, but one could use a finer grid once the rough range of good parameters is known (rather than starting with a fine grid, which would waste a lot of time). <b>(10 points)</b>"
   ]
  },
  {
   "cell_type": "code",
   "execution_count": 185,
   "metadata": {},
   "outputs": [
    {
     "name": "stdout",
     "output_type": "stream",
     "text": [
      "Minimum Cross-Validation Error = 0.0233031674208 C: 2e 1 gamma: 2e -2\n"
     ]
    }
   ],
   "source": [
    "# Put your code here\n",
    "C_init = 2*(10**-5)\n",
    "gamma_init = 2*(10**-15)\n",
    "min_error = 999999\n",
    "min_C = 0\n",
    "min_gamma = 0\n",
    "\n",
    "for i in range(21):\n",
    "    for j in range(19):\n",
    "        C = C_init*(10**i)\n",
    "        gamma = gamma_init*(10**j)\n",
    "        SVM = SVC(C=C,gamma=gamma)\n",
    "        cv_error = 1-mean(cross_val_score(SVM, X=data_train, y=label_train, cv=10))\n",
    "        if(cv_error < min_error):\n",
    "            min_error = cv_error\n",
    "            min_C = -5+i\n",
    "            min_gamma = -15+j\n",
    "\n",
    "print(\"Minimum Cross-Validation Error =\", min_error, \"C: 2e\",min_C, \"gamma: 2e\", min_gamma)"
   ]
  },
  {
   "cell_type": "markdown",
   "metadata": {},
   "source": [
    "**ANSWER:** I choose the parameters that yield the smallest cross-validation error which resulted in the parameters below:  \n",
    "\n",
    "Minimum Cross-Validation Error = 0.0233031674208  \n",
    "C: 2e1  \n",
    "gamma: 2e-2"
   ]
  },
  {
   "cell_type": "markdown",
   "metadata": {},
   "source": [
    "As stated in a footnote in the notes, Logistic Regression normally has a regularizer parameter to promote stability. Scikit-learn calls this parameter $C$ (which is like $\\lambda^{-1}$ in the notes); see the [LibLinear](http://www.csie.ntu.edu.tw/~cjlin/papers/liblinear.pdf) documentation for the exact meaning of $C$. \n",
    "\n",
    "Use cross-validation to select a value of $C$ for logistic regression (sklearn.linear_model.LogisticRegression) by varying $C$ from $2^{-14},2^{-4},\\ldots,2^{14}$. You may optionally make use of sklearn.model_selection.GridSearchCV, or write the search by hand (as before). \n",
    "\n",
    "Which value of $C$ would you choose? What is the corresponding cross-validation error? **(5 points)**"
   ]
  },
  {
   "cell_type": "code",
   "execution_count": 187,
   "metadata": {},
   "outputs": [
    {
     "name": "stdout",
     "output_type": "stream",
     "text": [
      "Cross-Validation Error:  0.361187028658  C: 2e -14\n",
      "Cross-Validation Error:  0.359263951735  C: 2e -13\n",
      "Cross-Validation Error:  0.310505279035  C: 2e -12\n",
      "Cross-Validation Error:  0.099592760181  C: 2e -11\n",
      "Cross-Validation Error:  0.0427616892911  C: 2e -10\n",
      "Cross-Validation Error:  0.027149321267  C: 2e -9\n",
      "Cross-Validation Error:  0.0273001508296  C: 2e -8\n",
      "Cross-Validation Error:  0.0311840120664  C: 2e -7\n",
      "Cross-Validation Error:  0.0370286576169  C: 2e -6\n",
      "Cross-Validation Error:  0.0467194570136  C: 2e -5\n",
      "Cross-Validation Error:  0.0486425339367  C: 2e -4\n",
      "Cross-Validation Error:  0.0506033182504  C: 2e -3\n",
      "Cross-Validation Error:  0.0486425339367  C: 2e -2\n",
      "Cross-Validation Error:  0.0506033182504  C: 2e -1\n",
      "Cross-Validation Error:  0.0506033182504  C: 2e 0\n",
      "Cross-Validation Error:  0.0506033182504  C: 2e 1\n",
      "Cross-Validation Error:  0.0506033182504  C: 2e 2\n",
      "Cross-Validation Error:  0.0506033182504  C: 2e 3\n",
      "Cross-Validation Error:  0.0506033182504  C: 2e 4\n",
      "Cross-Validation Error:  0.0506033182504  C: 2e 5\n",
      "Cross-Validation Error:  0.0506033182504  C: 2e 6\n",
      "Cross-Validation Error:  0.0506033182504  C: 2e 7\n",
      "Cross-Validation Error:  0.0506033182504  C: 2e 8\n",
      "Cross-Validation Error:  0.0506033182504  C: 2e 9\n",
      "Cross-Validation Error:  0.0525641025641  C: 2e 10\n",
      "Cross-Validation Error:  0.0506033182504  C: 2e 11\n",
      "Cross-Validation Error:  0.0486425339367  C: 2e 12\n",
      "Cross-Validation Error:  0.0506033182504  C: 2e 13\n",
      "Cross-Validation Error:  0.0506033182504  C: 2e 14\n"
     ]
    }
   ],
   "source": [
    "#Put your code here\n",
    "from sklearn.cross_validation import cross_val_score\n",
    "C_init = 2*(10**-5)\n",
    "\n",
    "for i in range(29):\n",
    "    C = C_init*(10**i)\n",
    "    LR = LogisticRegression(C=C)\n",
    "    cv_error = 1-mean(cross_val_score(LR, X=data_train, y=label_train, cv=10))\n",
    "    print(\"Cross-Validation Error: \", cv_error, \" C: 2e\", -14+i)"
   ]
  },
  {
   "cell_type": "markdown",
   "metadata": {},
   "source": [
    "**ANSWER:** I chose C= 2e-9 since it has the lowest cross-validation error at 0.0271"
   ]
  },
  {
   "cell_type": "markdown",
   "metadata": {},
   "source": [
    "Based on the classifiers you selected thus far for Linear SVM, SVM + Gaussian RBF and Logistic Regression, which classifier would you pick? Make sure to take into account error, the application and computational considerations. **(5 points)**"
   ]
  },
  {
   "cell_type": "markdown",
   "metadata": {},
   "source": [
    "**ANSWER:** I would pick the Gaussian RBF. It has the lowest cross validation error on the training data."
   ]
  },
  {
   "cell_type": "markdown",
   "metadata": {},
   "source": [
    "Train the classifier selected above on the whole training set. Then, estimate the prediction error using the test set. What is your estimate of the prediction error? How does it compare to the cross-validation error?  <b>(10 points)</b>"
   ]
  },
  {
   "cell_type": "code",
   "execution_count": 195,
   "metadata": {},
   "outputs": [
    {
     "name": "stdout",
     "output_type": "stream",
     "text": [
      "Prediction Error:  0.0\n",
      "512\n"
     ]
    }
   ],
   "source": [
    "#Put your code here\n",
    "C = 2*(10**1)\n",
    "gamma = 2*(10**-2)\n",
    "SVM = SVC(C=C,gamma=gamma)\n",
    "SVM.fit(data_train, label_train)\n",
    "prediction_error = 1-SVM.score(data_test, label_test)\n",
    "print(\"Prediction Error: \", prediction_error)\n"
   ]
  },
  {
   "cell_type": "markdown",
   "metadata": {},
   "source": [
    "**ANSWER:** The prediction error is 0. This makes sens because there are only 57 samples in the test data and the cross-validation error of our chosen model is 0.05 which is pretty low. "
   ]
  },
  {
   "cell_type": "markdown",
   "metadata": {},
   "source": [
    "Do you think the 0,1-loss is appropriate performance measure to report, in this case? If so, why? If not, how would you measure performance? **(5 points)**"
   ]
  },
  {
   "cell_type": "markdown",
   "metadata": {},
   "source": [
    "**ANSWER:** I think we can find a more appropriate performanace measure for this classifier. In the case that a patient does not actually have breast cancer, yet they are likely to develop breast cancer in the future, the misdetection of the sample as malignant may not be too far off. This may be going outside of the context of the problem, but having a performance that measures likelihood of cancer development is more appropriate and helpful to patients. "
   ]
  },
  {
   "cell_type": "code",
   "execution_count": null,
   "metadata": {
    "collapsed": true
   },
   "outputs": [],
   "source": []
  }
 ],
 "metadata": {
  "anaconda-cloud": {},
  "kernelspec": {
   "display_name": "Python 3",
   "language": "python",
   "name": "python3"
  },
  "language_info": {
   "codemirror_mode": {
    "name": "ipython",
    "version": 3
   },
   "file_extension": ".py",
   "mimetype": "text/x-python",
   "name": "python",
   "nbconvert_exporter": "python",
   "pygments_lexer": "ipython3",
   "version": "3.6.1"
  }
 },
 "nbformat": 4,
 "nbformat_minor": 1
}
